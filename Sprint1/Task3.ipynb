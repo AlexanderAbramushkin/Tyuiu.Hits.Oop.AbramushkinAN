{
 "cells": [
  {
   "cell_type": "markdown",
   "metadata": {},
   "source": [
    "<h1 style=\"color:DodgerBlue\">Индивидальный проект</h1>"
   ]
  },
  {
   "cell_type": "markdown",
   "metadata": {},
   "source": [
    "<h2 style=\"color:DodgerBlue\">Название проекта:</h2>\n",
    "\n",
    "----\n",
    "\n",
    "### Вариант задания №1\n"
   ]
  },
  {
   "cell_type": "markdown",
   "metadata": {},
   "source": [
    "<h2 style=\"color:DodgerBlue\">Описание проекта:</h2>\n",
    "\n",
    "----\n",
    "\n",
    "Создать базовый класс Person в C#, который будет представлять информацию о\n",
    "человеке. На основе этого класса разработать 2-3 производных класса,\n",
    "демонстрирующих принципы наследования и полиморфизма. В каждом из классов\n",
    "должны быть реализованы новые атрибуты и методы, а также переопределены\n",
    "некоторые методы базового класса для демонстрации полиморфизма<br>\n",
    "Требования к базовому классу Person:<br>\n",
    "• Атрибуты: Имя (Name), Возраст (Age), Пол (Gender).<br>\n",
    "• Методы:<br>\n",
    "o GetInfo(): метод для получения информации о человеке в виде строки.<br>\n",
    "o SayHello(): метод для вывода приветствия от человека.<br>\n",
    "Требования к производным классам:<br>\n",
    "1. Студент (Student): Должен содержать дополнительные атрибуты, такие как\n",
    "Университет (University) и Курс (Course). Метод SayHello() должен быть\n",
    "переопределен для добавления информации о курсе при приветствии.<br>\n",
    "2. Работник (Employee): Должен содержать дополнительные атрибуты, такие\n",
    "как Компания (subject) и Зарплата (Salary). Метод GetInfo() должен быть\n",
    "переопределен для включения информации о компании и зарплате.<br>\n",
    "3. Преподаватель (Teacher) (если требуется третий класс): Должен содержать\n",
    "дополнительные атрибуты, такие как Предмет (Subject) и Стаж работы\n",
    "(Experience). Метод SayHello() должен быть переопределен для добавления\n",
    "информации о преподаваемом предмете при приветствии.<br>\n",
    "\n",
    "#### Дополнительное задание\n",
    "Добавьте к сущестующим классам конструктора классов с использованием гетторов и сетторов и реализуйте взаимодействие объектов между собой"
   ]
  },
  {
   "cell_type": "markdown",
   "metadata": {},
   "source": [
    "<h2 style=\"color:DodgerBlue\">Реализация:</h2>\n",
    "\n",
    "----"
   ]
  },
  {
   "cell_type": "code",
   "execution_count": 3,
   "metadata": {
    "dotnet_interactive": {
     "language": "csharp"
    },
    "polyglot_notebook": {
     "kernelName": "csharp"
    }
   },
   "outputs": [
    {
     "name": "stdout",
     "output_type": "stream",
     "text": [
      "Привет, меня зовут Иван Иванов!\n",
      "Имя: Иван Иванов, Возраст: 25, Пол: М\n",
      "\n",
      "Привет, меня зовут Александр Абрамушкин, я студент 3 курса университета «ТИУ».\n",
      "Имя: Александр Абрамушкин, Возраст: 19, Пол: М\n",
      "\n",
      "Привет, меня зовут Сергей Смирнов!\n",
      "Имя: Сергей Смирнов, Возраст: 45, Пол: М, Компания: Сбербанк, Зарплата: 80000 руб.\n",
      "\n",
      "Привет, меня зовут Ольга Сергеевна Тарасюк, я преподаватель дисциплины «История» с опытом работы - 4 года.\n",
      "Имя: Ольга Сергеевна Тарасюк, Возраст: 40, Пол: Ж\n"
     ]
    }
   ],
   "source": [
    "public class Person\n",
    "{\n",
    "    public string Name {get; set;}\n",
    "    public int Age {get; set;}\n",
    "    public char Gender {get; set;}\n",
    "\n",
    "    public Person(string name, int age, char gender)\n",
    "    {\n",
    "        Name = name;\n",
    "        Age = age;\n",
    "        Gender = gender;\n",
    "    }\n",
    "\n",
    "    public virtual void GetInfo()\n",
    "    {\n",
    "        Console.WriteLine($\"Имя: {Name}, Возраст: {Age}, Пол: {Gender}\");\n",
    "    }\n",
    "\n",
    "    public virtual void SayHello()\n",
    "    {\n",
    "        Console.WriteLine($\"Привет, меня зовут {Name}!\");\n",
    "    }\n",
    "}\n",
    "\n",
    "public class Student : Person\n",
    "{\n",
    "    public string University {get; set;}\n",
    "    public int Course {get; set;}\n",
    "\n",
    "    public Student(string name, int age, char gender, string university, int course): base(name, age, gender)\n",
    "    {\n",
    "        University = university;\n",
    "        Course = course;\n",
    "    }\n",
    "    \n",
    "    public override void SayHello()\n",
    "    {\n",
    "        Console.WriteLine($\"Привет, меня зовут {Name}, я студент {Course} курса университета «{University}».\");\n",
    "    }\n",
    "}\n",
    "\n",
    "public class Employee : Person\n",
    "{\n",
    "    public string Company {get; set;}\n",
    "    public int Salary {get; set;}\n",
    "\n",
    "    public Employee(string name, int age, char gender, string company, int salary): base(name,age,gender)\n",
    "    {\n",
    "        Company = company;\n",
    "        Salary = salary;\n",
    "    }\n",
    "\n",
    "    public override void GetInfo()\n",
    "    {\n",
    "        Console.WriteLine($\"Имя: {Name}, Возраст: {Age}, Пол: {Gender}, Компания: {Company}, Зарплата: {Salary} руб.\");\n",
    "    }\n",
    "}\n",
    "\n",
    "public class Teacher : Person\n",
    "{\n",
    "    public string Subject {get; set;}\n",
    "    public int Experience {get; set;}\n",
    "    public Teacher(string name, int age, char gender, string subject, int experience): base(name,age,gender)\n",
    "    {\n",
    "        Subject = subject;\n",
    "        Experience = experience;\n",
    "    }\n",
    "\n",
    "    public override void SayHello()\n",
    "    {\n",
    "        Console.WriteLine($\"Привет, меня зовут {Name}, я преподаватель дисциплины «{Subject}» с опытом работы - {Experience} года.\");\n",
    "    }\n",
    "}\n",
    "\n",
    "Person myPerson = new Person(\"Иван Иванов\",25,'М');\n",
    "Student myStudent = new Student(\"Александр Абрамушкин\", 19, 'М', \"ТИУ\", 3);\n",
    "Employee myEmployee = new Employee(\"Сергей Смирнов\", 45, 'М', \"Сбербанк\", 80000);\n",
    "Teacher myTeacher = new Teacher(\"Ольга Сергеевна Тарасюк\", 40, 'Ж', \"История\", 4);\n",
    "\n",
    "myPerson.SayHello();\n",
    "myPerson.GetInfo();\n",
    "Console.WriteLine(\"\");\n",
    "myStudent.SayHello();\n",
    "myStudent.GetInfo();\n",
    "Console.WriteLine(\"\");\n",
    "myEmployee.SayHello();\n",
    "myEmployee.GetInfo();\n",
    "Console.WriteLine(\"\");\n",
    "myTeacher.SayHello();\n",
    "myTeacher.GetInfo();"
   ]
  }
 ],
 "metadata": {
  "kernelspec": {
   "display_name": ".NET (C#)",
   "language": "C#",
   "name": ".net-csharp"
  },
  "polyglot_notebook": {
   "kernelInfo": {
    "defaultKernelName": "csharp",
    "items": [
     {
      "aliases": [],
      "languageName": "csharp",
      "name": "csharp"
     }
    ]
   }
  }
 },
 "nbformat": 4,
 "nbformat_minor": 2
}
