{
 "cells": [
  {
   "cell_type": "markdown",
   "metadata": {},
   "source": [
    "<h1 style=\"color:DodgerBlue\">Индивидуальный проект</h1>"
   ]
  },
  {
   "cell_type": "markdown",
   "metadata": {},
   "source": [
    "<h2 style=\"color:DodgerBlue\">Название проекта:</h2>\n",
    "\n",
    "----\n",
    "\n",
    "### Вариант задания № 1\n"
   ]
  },
  {
   "cell_type": "markdown",
   "metadata": {},
   "source": [
    "<h2 style=\"color:DodgerBlue\">Описание проекта:</h2>\n",
    "\n",
    "----\n",
    "\n",
    "Создать базовый класс Person в C#, который будет представлять информацию о\n",
    "человеке. На основе этого класса разработать 2-3 производных класса,\n",
    "демонстрирующих принципы наследования и полиморфизма. В каждом из классов\n",
    "должны быть реализованы новые атрибуты и методы, а также переопределены\n",
    "некоторые методы базового класса для демонстрации полиморфизма<br>\n",
    "Требования к базовому классу Person:<br>\n",
    "• Атрибуты: Имя (Name), Возраст (Age), Пол (Gender).<br>\n",
    "• Методы:<br>\n",
    "o GetInfo(): метод для получения информации о человеке в виде строки.<br>\n",
    "o SayHello(): метод для вывода приветствия от человека.<br>\n",
    "Требования к производным классам:<br>\n",
    "1. Студент (Student): Должен содержать дополнительные атрибуты, такие как\n",
    "Университет (University) и Курс (Course). Метод SayHello() должен быть\n",
    "переопределен для добавления информации о курсе при приветствии.<br>\n",
    "2. Работник (Employee): Должен содержать дополнительные атрибуты, такие\n",
    "как Компания (subject) и Зарплата (Salary). Метод GetInfo() должен быть\n",
    "переопределен для включения информации о компании и зарплате.<br>\n",
    "3. Преподаватель (Teacher) (если требуется третий класс): Должен содержать\n",
    "дополнительные атрибуты, такие как Предмет (Subject) и Стаж работы\n",
    "(Experience). Метод SayHello() должен быть переопределен для добавления\n",
    "информации о преподаваемом предмете при приветствии.<br>"
   ]
  },
  {
   "cell_type": "markdown",
   "metadata": {},
   "source": [
    "<h2 style=\"color:DodgerBlue\">Реализация:</h2>\n",
    "\n",
    "----"
   ]
  },
  {
   "cell_type": "code",
   "execution_count": 3,
   "metadata": {
    "dotnet_interactive": {
     "language": "csharp"
    },
    "polyglot_notebook": {
     "kernelName": "csharp"
    }
   },
   "outputs": [
    {
     "name": "stdout",
     "output_type": "stream",
     "text": [
      "Привет, меня зовут Иван Иванов!\n",
      "Имя: Иван Иванов, Возраст: 25, Пол: М\n",
      "Привет, меня зовут Александр Абрамушкин, я студент 3 курса университета «ТИУ».\n",
      "Имя: Александр Абрамушкин, Возраст: 19, Пол: М\n",
      "Привет, меня зовут Сергей Смирнов!\n",
      "Имя: Сергей Смирнов, Возраст: 45, Пол: М, Компания: Сбербанк, Зарплата: 80000 руб.\n",
      "Привет, меня зовут Ольга Сергеевна Тарасюк, я преподаватель дисциплины «История» с опытом работы - 4 года.\n",
      "Имя: Ольга Сергеевна Тарасюк, Возраст: 40, Пол: Ж\n"
     ]
    }
   ],
   "source": [
    "public class Person\n",
    "{\n",
    "    public string Name;\n",
    "    public int Age;\n",
    "    public char Gender;\n",
    "\n",
    "    public virtual void GetInfo()\n",
    "    {\n",
    "        Console.WriteLine($\"Имя: {this.Name}, Возраст: {this.Age}, Пол: {this.Gender}\");\n",
    "    }\n",
    "\n",
    "    public virtual void SayHello()\n",
    "    {\n",
    "        Console.WriteLine($\"Привет, меня зовут {this.Name}!\");\n",
    "    }\n",
    "}\n",
    "\n",
    "public class Student : Person\n",
    "{\n",
    "    public string University;\n",
    "    public int Course;\n",
    "    \n",
    "    public override void SayHello()\n",
    "    {\n",
    "        Console.WriteLine($\"Привет, меня зовут {this.Name}, я студент {this.Course} курса университета «{this.University}».\");\n",
    "    }\n",
    "}\n",
    "\n",
    "public class Employee : Person\n",
    "{\n",
    "    public string Company;\n",
    "    public int Salary;\n",
    "\n",
    "    public override void GetInfo()\n",
    "    {\n",
    "        Console.WriteLine($\"Имя: {this.Name}, Возраст: {this.Age}, Пол: {this.Gender}, Компания: {this.Company}, Зарплата: {this.Salary} руб.\");\n",
    "    }\n",
    "}\n",
    "\n",
    "public class Teacher : Person\n",
    "{\n",
    "    public string Subject;\n",
    "    public int Experience;\n",
    "\n",
    "    public override void SayHello()\n",
    "    {\n",
    "        Console.WriteLine($\"Привет, меня зовут {this.Name}, я преподаватель дисциплины «{this.Subject}» с опытом работы - {this.Experience} года.\");\n",
    "    }\n",
    "}\n",
    "\n",
    "Person myPerson = new Person();\n",
    "myPerson.Name = \"Иван Иванов\";\n",
    "myPerson.Age = 25;\n",
    "myPerson.Gender = 'М';\n",
    "\n",
    "Student myStudent = new Student();\n",
    "myStudent.Name = \"Александр Абрамушкин\";\n",
    "myStudent.Age = 19;\n",
    "myStudent.Gender = 'М';\n",
    "myStudent.University = \"ТИУ\";\n",
    "myStudent.Course = 3;\n",
    "\n",
    "Employee myEmployee = new Employee();\n",
    "myEmployee.Name = \"Сергей Смирнов\";\n",
    "myEmployee.Age = 45;\n",
    "myEmployee.Gender = 'М';\n",
    "myEmployee.Company = \"Сбербанк\";\n",
    "myEmployee.Salary = 80000;\n",
    "\n",
    "Teacher myTeacher = new Teacher();\n",
    "myTeacher.Name = \"Ольга Сергеевна Тарасюк\";\n",
    "myTeacher.Age = 40;\n",
    "myTeacher.Gender = 'Ж';\n",
    "myTeacher.Subject = \"История\";\n",
    "myTeacher.Experience = 4;\n",
    "\n",
    "myPerson.SayHello();\n",
    "myPerson.GetInfo();\n",
    "\n",
    "myStudent.SayHello();\n",
    "myStudent.GetInfo();\n",
    "\n",
    "myEmployee.SayHello();\n",
    "myEmployee.GetInfo();\n",
    "\n",
    "myTeacher.SayHello();\n",
    "myTeacher.GetInfo();"
   ]
  }
 ],
 "metadata": {
  "kernelspec": {
   "display_name": ".NET (C#)",
   "language": "C#",
   "name": ".net-csharp"
  },
  "polyglot_notebook": {
   "kernelInfo": {
    "defaultKernelName": "csharp",
    "items": [
     {
      "aliases": [],
      "languageName": "csharp",
      "name": "csharp"
     }
    ]
   }
  }
 },
 "nbformat": 4,
 "nbformat_minor": 2
}
